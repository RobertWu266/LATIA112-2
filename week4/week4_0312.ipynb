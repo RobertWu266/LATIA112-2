{
  "nbformat": 4,
  "nbformat_minor": 0,
  "metadata": {
    "colab": {
      "provenance": []
    },
    "kernelspec": {
      "name": "python3",
      "display_name": "Python 3"
    },
    "language_info": {
      "name": "python"
    }
  },
  "cells": [
    {
      "cell_type": "code",
      "execution_count": null,
      "metadata": {
        "colab": {
          "base_uri": "https://localhost:8080/"
        },
        "id": "9wObaGgaSyAq",
        "outputId": "e1dcb646-6f44-4093-ec82-4939a293b0f0"
      },
      "outputs": [
        {
          "output_type": "stream",
          "name": "stdout",
          "text": [
            "Mounted at /content/gdrive/\n",
            "                  時間戳記 1. 性別 2. 年級 3. 系級(範例：科技系116)  4. 這學期學分數(請輸入數字，單位為學分)  \\\n",
            "0  2024/3/5 下午 1:11:18     女    大一           企管系116                      20   \n",
            "1  2024/3/5 下午 1:20:51     男    大一          學習科學116                      23   \n",
            "2  2024/3/5 下午 1:26:00     男    大二           機電系115                      22   \n",
            "3  2024/3/5 下午 1:30:19     男    大二           機電系115                      22   \n",
            "4  2024/3/5 下午 1:31:21     男    大二           機電系115                      22   \n",
            "\n",
            "  5. 每天使用3C時間多寡，以小時計(是指看影片、社群、打Game等等) 6. 是否單身(是指是否有沒有男女朋友) 7. 是否打工 8. 是否參加社團  \\\n",
            "0                                3-5小時                    是       否         否   \n",
            "1                               5-10小時                    是       否         否   \n",
            "2                                3-5小時                    否       否         否   \n",
            "3                                3-5小時                    是       否         否   \n",
            "4                               5-10小時                    是       是         否   \n",
            "\n",
            "  9. 經濟能力 10. 是否申請獎學金 11. 是否住學校宿舍  \\\n",
            "0      小康           否           否   \n",
            "1      小康           否           否   \n",
            "2      困難           否           否   \n",
            "3      困難           否           否   \n",
            "4      小康           否           否   \n",
            "\n",
            "  12. 睡眠品質是否好不好(例如是否有開冷氣、或是室友睡覺是否打呼，或是有沒有睡飽等等)  13. 每周總讀書時間(請輸入數字，單位為小時)  \\\n",
            "0                                            否                      31.5   \n",
            "1                                            是                       7.0   \n",
            "2                                            否                       3.0   \n",
            "3                                            否                       3.0   \n",
            "4                                            否                      14.0   \n",
            "\n",
            "  讀書時間高低程度  \n",
            "0        佳  \n",
            "1       尚可  \n",
            "2        少  \n",
            "3        少  \n",
            "4       不錯   \n",
            "\n"
          ]
        }
      ],
      "source": [
        "import numpy as np\n",
        "import matplotlib.pyplot as plt\n",
        "import pandas as pd\n",
        "import os\n",
        "from google.colab import drive\n",
        "drive.mount('/content/gdrive/', force_remount=True)\n",
        "\n",
        "import os\n",
        "os.chdir(\"/content/gdrive/My Drive/112_2_LATIA/week4_0312/\") # 切換目錄\n",
        "import pandas as pd\n",
        "\n",
        "csv_file = './std_each_week_study_tf.csv'\n",
        "df = pd.read_csv(csv_file) # 讀取csv檔案\n",
        "print(df.head(), '\\n')"
      ]
    },
    {
      "cell_type": "code",
      "source": [
        "# Assume df is your pandas DataFrame and it has columns '2. 年級' and '5. 每天使用3C時間多寡，以小時計(是指看影片、社群、打Game等等)'\n",
        "# df = pd.DataFrame({'2. 年級': [...], '5. 每天使用3C時間多寡，以小時計(是指看影片、社群、打Game等等)': [...]})\n",
        "\n",
        "# Count the combinations of '2. 年級' and '5. 每天使用3C時間多寡，以小時計(是指看影片、社群、打Game等等)'\n",
        "combination_counts = df.groupby(['2. 年級', '5. 每天使用3C時間多寡，以小時計(是指看影片、社群、打Game等等)']).size().unstack(fill_value=0)\n",
        "\n",
        "# If you want to flatten this and have a multi-index series\n",
        "flat_counts = df.groupby(['2. 年級', '5. 每天使用3C時間多寡，以小時計(是指看影片、社群、打Game等等)']).size()\n",
        "\n",
        "# To print the counts\n",
        "print(combination_counts)\n",
        "#print(flat_counts)\n",
        "# Create a new column that concatenates the values from '2. 年級' and '5. 每天使用3C時間多寡，以小時計(是指看影片、社群、打Game等等)'\n",
        "df['xy_combination'] = df['5. 每天使用3C時間多寡，以小時計(是指看影片、社群、打Game等等)'] + df['2. 年級']\n",
        "\n",
        "# Get the counts for each combination\n",
        "xy_combination_counts = df['xy_combination'].value_counts().sort_index()\n",
        "\n",
        "# Print the combination counts\n",
        "#print(xy_combination_counts)"
      ],
      "metadata": {
        "colab": {
          "base_uri": "https://localhost:8080/"
        },
        "id": "Z7VQUg_TSypO",
        "outputId": "31c09199-2da3-4d95-8bc6-b60835301aa4"
      },
      "execution_count": null,
      "outputs": [
        {
          "output_type": "stream",
          "name": "stdout",
          "text": [
            "5. 每天使用3C時間多寡，以小時計(是指看影片、社群、打Game等等)  10小時以上  3-5小時  5-10小時  低於3小時\n",
            "2. 年級                                                             \n",
            "大一                                         0      2       5      0\n",
            "大三                                         2      4       4      1\n",
            "大二                                         0      9       4      0\n",
            "大四                                         0      5       5      1\n"
          ]
        }
      ]
    },
    {
      "cell_type": "code",
      "source": [
        "df02=df[['2. 年級','5. 每天使用3C時間多寡，以小時計(是指看影片、社群、打Game等等)']]\n",
        "grade_acc=['大一','大二','大三','大四']\n",
        "time_acc=['3-5小時','5-10小時','5-10小時','10小時以上']"
      ],
      "metadata": {
        "id": "rHmNbn35Uurj"
      },
      "execution_count": null,
      "outputs": []
    },
    {
      "cell_type": "code",
      "source": [
        "!wget -O TaipeiSansTCBeta-Regular.ttf https://drive.google.com/uc?id=1eGAsTN1HBpJAkeVM57_C7ccp7hbgSz3_&export=download\n",
        "\n",
        "import matplotlib as mpl\n",
        "from matplotlib.font_manager import fontManager\n",
        "\n",
        "fontManager.addfont('TaipeiSansTCBeta-Regular.ttf')\n",
        "mpl.rc('font', family='Taipei Sans TC Beta')"
      ],
      "metadata": {
        "colab": {
          "base_uri": "https://localhost:8080/"
        },
        "id": "7ueOIFlQqjun",
        "outputId": "cc784c17-1ddb-46d5-cf36-a860526c5f8b"
      },
      "execution_count": null,
      "outputs": [
        {
          "output_type": "stream",
          "name": "stdout",
          "text": [
            "--2024-03-15 05:51:32--  https://drive.google.com/uc?id=1eGAsTN1HBpJAkeVM57_C7ccp7hbgSz3_\n",
            "Resolving drive.google.com (drive.google.com)... 142.250.148.100, 142.250.148.139, 142.250.148.102, ...\n",
            "Connecting to drive.google.com (drive.google.com)|142.250.148.100|:443... connected.\n",
            "HTTP request sent, awaiting response... 303 See Other\n",
            "Location: https://drive.usercontent.google.com/download?id=1eGAsTN1HBpJAkeVM57_C7ccp7hbgSz3_ [following]\n",
            "--2024-03-15 05:51:32--  https://drive.usercontent.google.com/download?id=1eGAsTN1HBpJAkeVM57_C7ccp7hbgSz3_\n",
            "Resolving drive.usercontent.google.com (drive.usercontent.google.com)... 108.177.111.132, 2607:f8b0:4001:c07::84\n",
            "Connecting to drive.usercontent.google.com (drive.usercontent.google.com)|108.177.111.132|:443... connected.\n",
            "HTTP request sent, awaiting response... 200 OK\n",
            "Length: 20659344 (20M) [application/octet-stream]\n",
            "Saving to: ‘TaipeiSansTCBeta-Regular.ttf’\n",
            "\n",
            "TaipeiSansTCBeta-Re 100%[===================>]  19.70M  58.2MB/s    in 0.3s    \n",
            "\n",
            "2024-03-15 05:51:36 (58.2 MB/s) - ‘TaipeiSansTCBeta-Regular.ttf’ saved [20659344/20659344]\n",
            "\n"
          ]
        }
      ]
    },
    {
      "cell_type": "code",
      "source": [
        "#年級\n",
        "import matplotlib.pyplot as plt\n",
        "\n",
        "grouped = df.groupby(['2. 年級', '5. 每天使用3C時間多寡，以小時計(是指看影片、社群、打Game等等)']).size().unstack(fill_value=0)\n",
        "\n",
        "# Plotting the grouped bar chart\n",
        "fig, ax = plt.subplots()\n",
        "\n",
        "# Create a bar for each time category\n",
        "bar_width = 0.2  # Set the width of each bar\n",
        "indices = np.arange(len(grade_acc))\n",
        "\n",
        "for i, time in enumerate(time_acc):\n",
        "    ax.bar(indices + i * bar_width, grouped[time], width=bar_width, label=time)\n",
        "\n",
        "# Set the xticks to be in the middle of the groups\n",
        "ax.set_xticks(indices + bar_width)\n",
        "ax.set_xticklabels(grade_acc)\n",
        "\n",
        "# Adding labels and title\n",
        "plt.xlabel('Grade')\n",
        "plt.ylabel('Count')\n",
        "plt.title('3C Usage Time by Grade')\n",
        "\n",
        "\n",
        "# Show the plot\n",
        "plt.show()\n"
      ],
      "metadata": {
        "colab": {
          "base_uri": "https://localhost:8080/",
          "height": 472
        },
        "id": "0ONfjquVjFVF",
        "outputId": "9cbfdea4-ba80-4d05-da86-fa9aad299754"
      },
      "execution_count": null,
      "outputs": [
        {
          "output_type": "display_data",
          "data": {
            "text/plain": [
              "<Figure size 640x480 with 1 Axes>"
            ],
            "image/png": "[encoded data removed]"
          },
          "metadata": {}
        }
      ]
    },
    {
      "cell_type": "code",
      "source": [
        "grouped"
      ],
      "metadata": {
        "colab": {
          "base_uri": "https://localhost:8080/",
          "height": 206
        },
        "id": "90Uoiypsqo6j",
        "outputId": "c498c195-c905-4ad5-b4df-49565f20dd70"
      },
      "execution_count": null,
      "outputs": [
        {
          "output_type": "execute_result",
          "data": {
            "text/plain": [
              "5. 每天使用3C時間多寡，以小時計(是指看影片、社群、打Game等等)  10小時以上  3-5小時  5-10小時  低於3小時\n",
              "2. 年級                                                             \n",
              "大一                                         0      2       5      0\n",
              "大三                                         2      4       4      1\n",
              "大二                                         0      9       4      0\n",
              "大四                                         0      5       5      1"
            ],
            "text/html": [
              "\n",
              "  <div id=\"df-cb561be0-040d-4c95-b11f-2309c8e6bfa1\" class=\"colab-df-container\">\n",
              "    <div>\n",
              "<style scoped>\n",
              "    .dataframe tbody tr th:only-of-type {\n",
              "        vertical-align: middle;\n",
              "    }\n",
              "\n",
              "    .dataframe tbody tr th {\n",
              "        vertical-align: top;\n",
              "    }\n",
              "\n",
              "    .dataframe thead th {\n",
              "        text-align: right;\n",
              "    }\n",
              "</style>\n",
              "<table border=\"1\" class=\"dataframe\">\n",
              "  <thead>\n",
              "    <tr style=\"text-align: right;\">\n",
              "      <th>5. 每天使用3C時間多寡，以小時計(是指看影片、社群、打Game等等)</th>\n",
              "      <th>10小時以上</th>\n",
              "      <th>3-5小時</th>\n",
              "      <th>5-10小時</th>\n",
              "      <th>低於3小時</th>\n",
              "    </tr>\n",
              "    <tr>\n",
              "      <th>2. 年級</th>\n",
              "      <th></th>\n",
              "      <th></th>\n",
              "      <th></th>\n",
              "      <th></th>\n",
              "    </tr>\n",
              "  </thead>\n",
              "  <tbody>\n",
              "    <tr>\n",
              "      <th>大一</th>\n",
              "      <td>0</td>\n",
              "      <td>2</td>\n",
              "      <td>5</td>\n",
              "      <td>0</td>\n",
              "    </tr>\n",
              "    <tr>\n",
              "      <th>大三</th>\n",
              "      <td>2</td>\n",
              "      <td>4</td>\n",
              "      <td>4</td>\n",
              "      <td>1</td>\n",
              "    </tr>\n",
              "    <tr>\n",
              "      <th>大二</th>\n",
              "      <td>0</td>\n",
              "      <td>9</td>\n",
              "      <td>4</td>\n",
              "      <td>0</td>\n",
              "    </tr>\n",
              "    <tr>\n",
              "      <th>大四</th>\n",
              "      <td>0</td>\n",
              "      <td>5</td>\n",
              "      <td>5</td>\n",
              "      <td>1</td>\n",
              "    </tr>\n",
              "  </tbody>\n",
              "</table>\n",
              "</div>\n",
              "    <div class=\"colab-df-buttons\">\n",
              "\n",
              "  <div class=\"colab-df-container\">\n",
              "    <button class=\"colab-df-convert\" onclick=\"convertToInteractive('df-cb561be0-040d-4c95-b11f-2309c8e6bfa1')\"\n",
              "            title=\"Convert this dataframe to an interactive table.\"\n",
              "            style=\"display:none;\">\n",
              "\n",
              "  <svg xmlns=\"http://www.w3.org/2000/svg\" height=\"24px\" viewBox=\"0 -960 960 960\">\n",
              "    <path d=\"M120-120v-720h720v720H120Zm60-500h600v-160H180v160Zm220 220h160v-160H400v160Zm0 220h160v-160H400v160ZM180-400h160v-160H180v160Zm440 0h160v-160H620v160ZM180-180h160v-160H180v160Zm440 0h160v-160H620v160Z\"/>\n",
              "  </svg>\n",
              "    </button>\n",
              "\n",
              "  <style>\n",
              "    .colab-df-container {\n",
              "      display:flex;\n",
              "      gap: 12px;\n",
              "    }\n",
              "\n",
              "    .colab-df-convert {\n",
              "      background-color: #E8F0FE;\n",
              "      border: none;\n",
              "      border-radius: 50%;\n",
              "      cursor: pointer;\n",
              "      display: none;\n",
              "      fill: #1967D2;\n",
              "      height: 32px;\n",
              "      padding: 0 0 0 0;\n",
              "      width: 32px;\n",
              "    }\n",
              "\n",
              "    .colab-df-convert:hover {\n",
              "      background-color: #E2EBFA;\n",
              "      box-shadow: 0px 1px 2px rgba(60, 64, 67, 0.3), 0px 1px 3px 1px rgba(60, 64, 67, 0.15);\n",
              "      fill: #174EA6;\n",
              "    }\n",
              "\n",
              "    .colab-df-buttons div {\n",
              "      margin-bottom: 4px;\n",
              "    }\n",
              "\n",
              "    [theme=dark] .colab-df-convert {\n",
              "      background-color: #3B4455;\n",
              "      fill: #D2E3FC;\n",
              "    }\n",
              "\n",
              "    [theme=dark] .colab-df-convert:hover {\n",
              "      background-color: #434B5C;\n",
              "      box-shadow: 0px 1px 3px 1px rgba(0, 0, 0, 0.15);\n",
              "      filter: drop-shadow(0px 1px 2px rgba(0, 0, 0, 0.3));\n",
              "      fill: #FFFFFF;\n",
              "    }\n",
              "  </style>\n",
              "\n",
              "    <script>\n",
              "      const buttonEl =\n",
              "        document.querySelector('#df-cb561be0-040d-4c95-b11f-2309c8e6bfa1 button.colab-df-convert');\n",
              "      buttonEl.style.display =\n",
              "        google.colab.kernel.accessAllowed ? 'block' : 'none';\n",
              "\n",
              "      async function convertToInteractive(key) {\n",
              "        const element = document.querySelector('#df-cb561be0-040d-4c95-b11f-2309c8e6bfa1');\n",
              "        const dataTable =\n",
              "          await google.colab.kernel.invokeFunction('convertToInteractive',\n",
              "                                                    [key], {});\n",
              "        if (!dataTable) return;\n",
              "\n",
              "        const docLinkHtml = 'Like what you see? Visit the ' +\n",
              "          '<a target=\"_blank\" href=https://colab.research.google.com/notebooks/data_table.ipynb>data table notebook</a>'\n",
              "          + ' to learn more about interactive tables.';\n",
              "        element.innerHTML = '';\n",
              "        dataTable['output_type'] = 'display_data';\n",
              "        await google.colab.output.renderOutput(dataTable, element);\n",
              "        const docLink = document.createElement('div');\n",
              "        docLink.innerHTML = docLinkHtml;\n",
              "        element.appendChild(docLink);\n",
              "      }\n",
              "    </script>\n",
              "  </div>\n",
              "\n",
              "\n",
              "<div id=\"df-bdaee721-6a59-4270-9276-9d7eb9f047b9\">\n",
              "  <button class=\"colab-df-quickchart\" onclick=\"quickchart('df-bdaee721-6a59-4270-9276-9d7eb9f047b9')\"\n",
              "            title=\"Suggest charts\"\n",
              "            style=\"display:none;\">\n",
              "\n",
              "<svg xmlns=\"http://www.w3.org/2000/svg\" height=\"24px\"viewBox=\"0 0 24 24\"\n",
              "     width=\"24px\">\n",
              "    <g>\n",
              "        <path d=\"M19 3H5c-1.1 0-2 .9-2 2v14c0 1.1.9 2 2 2h14c1.1 0 2-.9 2-2V5c0-1.1-.9-2-2-2zM9 17H7v-7h2v7zm4 0h-2V7h2v10zm4 0h-2v-4h2v4z\"/>\n",
              "    </g>\n",
              "</svg>\n",
              "  </button>\n",
              "\n",
              "<style>\n",
              "  .colab-df-quickchart {\n",
              "      --bg-color: #E8F0FE;\n",
              "      --fill-color: #1967D2;\n",
              "      --hover-bg-color: #E2EBFA;\n",
              "      --hover-fill-color: #174EA6;\n",
              "      --disabled-fill-color: #AAA;\n",
              "      --disabled-bg-color: #DDD;\n",
              "  }\n",
              "\n",
              "  [theme=dark] .colab-df-quickchart {\n",
              "      --bg-color: #3B4455;\n",
              "      --fill-color: #D2E3FC;\n",
              "      --hover-bg-color: #434B5C;\n",
              "      --hover-fill-color: #FFFFFF;\n",
              "      --disabled-bg-color: #3B4455;\n",
              "      --disabled-fill-color: #666;\n",
              "  }\n",
              "\n",
              "  .colab-df-quickchart {\n",
              "    background-color: var(--bg-color);\n",
              "    border: none;\n",
              "    border-radius: 50%;\n",
              "    cursor: pointer;\n",
              "    display: none;\n",
              "    fill: var(--fill-color);\n",
              "    height: 32px;\n",
              "    padding: 0;\n",
              "    width: 32px;\n",
              "  }\n",
              "\n",
              "  .colab-df-quickchart:hover {\n",
              "    background-color: var(--hover-bg-color);\n",
              "    box-shadow: 0 1px 2px rgba(60, 64, 67, 0.3), 0 1px 3px 1px rgba(60, 64, 67, 0.15);\n",
              "    fill: var(--button-hover-fill-color);\n",
              "  }\n",
              "\n",
              "  .colab-df-quickchart-complete:disabled,\n",
              "  .colab-df-quickchart-complete:disabled:hover {\n",
              "    background-color: var(--disabled-bg-color);\n",
              "    fill: var(--disabled-fill-color);\n",
              "    box-shadow: none;\n",
              "  }\n",
              "\n",
              "  .colab-df-spinner {\n",
              "    border: 2px solid var(--fill-color);\n",
              "    border-color: transparent;\n",
              "    border-bottom-color: var(--fill-color);\n",
              "    animation:\n",
              "      spin 1s steps(1) infinite;\n",
              "  }\n",
              "\n",
              "  @keyframes spin {\n",
              "    0% {\n",
              "      border-color: transparent;\n",
              "      border-bottom-color: var(--fill-color);\n",
              "      border-left-color: var(--fill-color);\n",
              "    }\n",
              "    20% {\n",
              "      border-color: transparent;\n",
              "      border-left-color: var(--fill-color);\n",
              "      border-top-color: var(--fill-color);\n",
              "    }\n",
              "    30% {\n",
              "      border-color: transparent;\n",
              "      border-left-color: var(--fill-color);\n",
              "      border-top-color: var(--fill-color);\n",
              "      border-right-color: var(--fill-color);\n",
              "    }\n",
              "    40% {\n",
              "      border-color: transparent;\n",
              "      border-right-color: var(--fill-color);\n",
              "      border-top-color: var(--fill-color);\n",
              "    }\n",
              "    60% {\n",
              "      border-color: transparent;\n",
              "      border-right-color: var(--fill-color);\n",
              "    }\n",
              "    80% {\n",
              "      border-color: transparent;\n",
              "      border-right-color: var(--fill-color);\n",
              "      border-bottom-color: var(--fill-color);\n",
              "    }\n",
              "    90% {\n",
              "      border-color: transparent;\n",
              "      border-bottom-color: var(--fill-color);\n",
              "    }\n",
              "  }\n",
              "</style>\n",
              "\n",
              "  <script>\n",
              "    async function quickchart(key) {\n",
              "      const quickchartButtonEl =\n",
              "        document.querySelector('#' + key + ' button');\n",
              "      quickchartButtonEl.disabled = true;  // To prevent multiple clicks.\n",
              "      quickchartButtonEl.classList.add('colab-df-spinner');\n",
              "      try {\n",
              "        const charts = await google.colab.kernel.invokeFunction(\n",
              "            'suggestCharts', [key], {});\n",
              "      } catch (error) {\n",
              "        console.error('Error during call to suggestCharts:', error);\n",
              "      }\n",
              "      quickchartButtonEl.classList.remove('colab-df-spinner');\n",
              "      quickchartButtonEl.classList.add('colab-df-quickchart-complete');\n",
              "    }\n",
              "    (() => {\n",
              "      let quickchartButtonEl =\n",
              "        document.querySelector('#df-bdaee721-6a59-4270-9276-9d7eb9f047b9 button');\n",
              "      quickchartButtonEl.style.display =\n",
              "        google.colab.kernel.accessAllowed ? 'block' : 'none';\n",
              "    })();\n",
              "  </script>\n",
              "</div>\n",
              "    </div>\n",
              "  </div>\n"
            ],
            "application/vnd.google.colaboratory.intrinsic+json": {
              "type": "dataframe",
              "variable_name": "grouped",
              "summary": "{\n  \"name\": \"grouped\",\n  \"rows\": 4,\n  \"fields\": [\n    {\n      \"column\": \"2. \\u5e74\\u7d1a\",\n      \"properties\": {\n        \"dtype\": \"string\",\n        \"num_unique_values\": 4,\n        \"samples\": [\n          \"\\u5927\\u4e09\",\n          \"\\u5927\\u56db\",\n          \"\\u5927\\u4e00\"\n        ],\n        \"semantic_type\": \"\",\n        \"description\": \"\"\n      }\n    },\n    {\n      \"column\": \"10\\u5c0f\\u6642\\u4ee5\\u4e0a\",\n      \"properties\": {\n        \"dtype\": \"number\",\n        \"std\": 1,\n        \"min\": 0,\n        \"max\": 2,\n        \"num_unique_values\": 2,\n        \"samples\": [\n          2,\n          0\n        ],\n        \"semantic_type\": \"\",\n        \"description\": \"\"\n      }\n    },\n    {\n      \"column\": \"3-5\\u5c0f\\u6642\",\n      \"properties\": {\n        \"dtype\": \"number\",\n        \"std\": 2,\n        \"min\": 2,\n        \"max\": 9,\n        \"num_unique_values\": 4,\n        \"samples\": [\n          4,\n          5\n        ],\n        \"semantic_type\": \"\",\n        \"description\": \"\"\n      }\n    },\n    {\n      \"column\": \"5-10\\u5c0f\\u6642\",\n      \"properties\": {\n        \"dtype\": \"number\",\n        \"std\": 0,\n        \"min\": 4,\n        \"max\": 5,\n        \"num_unique_values\": 2,\n        \"samples\": [\n          4,\n          5\n        ],\n        \"semantic_type\": \"\",\n        \"description\": \"\"\n      }\n    },\n    {\n      \"column\": \"\\u4f4e\\u65bc3\\u5c0f\\u6642\",\n      \"properties\": {\n        \"dtype\": \"number\",\n        \"std\": 0,\n        \"min\": 0,\n        \"max\": 1,\n        \"num_unique_values\": 2,\n        \"samples\": [\n          1,\n          0\n        ],\n        \"semantic_type\": \"\",\n        \"description\": \"\"\n      }\n    }\n  ]\n}"
            }
          },
          "metadata": {},
          "execution_count": 15
        }
      ]
    },
    {
      "cell_type": "code",
      "source": [
        "\n",
        "\n",
        "\"\"\"Asumming that :低於3小時=1.5小時\n",
        "                3-5小時=4.5小時\n",
        "                5-10小時=7.5小時\"\"\"\n",
        "age_kvp={'大一':19,'大二':20,'大三':21,'大四':22}\n",
        "time_kvp={'低於3小時':1.5,'3-5小時':4.5,'5-10小時':7.5}\n",
        "#df['2. 年級'].map(age_kvp)\n",
        "x2=np.array(df['5. 每天使用3C時間多寡，以小時計(是指看影片、社群、打Game等等)'].map(time_kvp))\n",
        "y=np.array(df['13. 每周總讀書時間(請輸入數字，單位為小時)'])\n",
        "plt.scatter(x2,y)"
      ],
      "metadata": {
        "colab": {
          "base_uri": "https://localhost:8080/",
          "height": 447
        },
        "id": "DjZXxPsQrqgM",
        "outputId": "8fddb942-39fe-4951-a84e-cf4fe2977c63"
      },
      "execution_count": null,
      "outputs": [
        {
          "output_type": "execute_result",
          "data": {
            "text/plain": [
              "<matplotlib.collections.PathCollection at 0x7b3162bb5870>"
            ]
          },
          "metadata": {},
          "execution_count": 24
        },
        {
          "output_type": "display_data",
          "data": {
            "text/plain": [
              "<Figure size 640x480 with 1 Axes>"
            ],
            "image/png": "[encoded data removed]"
          },
          "metadata": {}
        }
      ]
    },
    {
      "cell_type": "code",
      "source": [
        "\"\"\"Asumming that :大一=19歲\n",
        "                大二=20歲\n",
        "                大三=21歲\n",
        "                大四=22歲\"\"\"\n",
        "\n",
        "\"\"\"Asumming that :低於3小時=1.5小時\n",
        "                3-5小時=4.5小時\n",
        "                5-10小時=7.5小時\"\"\"\n",
        "age_kvp={'大一':19,'大二':20,'大三':21,'大四':22}\n",
        "time_kvp={'低於3小時':1.5,'3-5小時':4.5,'5-10小時':7.5}\n",
        "x1=np.array(df['2. 年級'].map(age_kvp))\n",
        "#x2=np.array(df['5. 每天使用3C時間多寡，以小時計(是指看影片、社群、打Game等等)'].map(time_kvp))\n",
        "y=np.array(df['13. 每周總讀書時間(請輸入數字，單位為小時)'])\n",
        "plt.scatter(x1,y)"
      ],
      "metadata": {
        "colab": {
          "base_uri": "https://localhost:8080/",
          "height": 447
        },
        "id": "rHZNL-00IrPl",
        "outputId": "2cdc38eb-1ba8-47d0-d55e-18a3570c23fe"
      },
      "execution_count": null,
      "outputs": [
        {
          "output_type": "execute_result",
          "data": {
            "text/plain": [
              "<matplotlib.collections.PathCollection at 0x7b316269cdc0>"
            ]
          },
          "metadata": {},
          "execution_count": 23
        },
        {
          "output_type": "display_data",
          "data": {
            "text/plain": [
              "<Figure size 640x480 with 1 Axes>"
            ],
            "image/png": "[encoded data removed]"
          },
          "metadata": {}
        }
      ]
    },
    {
      "cell_type": "code",
      "source": [],
      "metadata": {
        "id": "DXMhg3csKfWK"
      },
      "execution_count": null,
      "outputs": []
    }
  ]
}